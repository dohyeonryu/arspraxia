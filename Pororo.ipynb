{
  "nbformat": 4,
  "nbformat_minor": 0,
  "metadata": {
    "colab": {
      "name": "Pororo.ipynb",
      "provenance": [],
      "collapsed_sections": [],
      "authorship_tag": "ABX9TyPRUuO9u5AsTjDMsUyNvXuV",
      "include_colab_link": true
    },
    "kernelspec": {
      "name": "python3",
      "display_name": "Python 3"
    },
    "language_info": {
      "name": "python"
    }
  },
  "cells": [
    {
      "cell_type": "markdown",
      "metadata": {
        "id": "view-in-github",
        "colab_type": "text"
      },
      "source": [
        "<a href=\"https://colab.research.google.com/github/dohyeonryu/arspraxia/blob/main/Pororo.ipynb\" target=\"_parent\"><img src=\"https://colab.research.google.com/assets/colab-badge.svg\" alt=\"Open In Colab\"/></a>"
      ]
    },
    {
      "cell_type": "code",
      "execution_count": null,
      "metadata": {
        "colab": {
          "base_uri": "https://localhost:8080/",
          "height": 1000
        },
        "id": "aUIwZJoYXbCh",
        "outputId": "08e262ad-158e-4b73-bf6a-e2d37fd506c7"
      },
      "outputs": [
        {
          "output_type": "stream",
          "name": "stdout",
          "text": [
            "Collecting pororo\n",
            "  Downloading pororo-0.4.2-py3-none-any.whl (256 kB)\n",
            "\u001b[?25l\r\u001b[K     |█▎                              | 10 kB 19.7 MB/s eta 0:00:01\r\u001b[K     |██▋                             | 20 kB 24.6 MB/s eta 0:00:01\r\u001b[K     |███▉                            | 30 kB 28.8 MB/s eta 0:00:01\r\u001b[K     |█████▏                          | 40 kB 26.8 MB/s eta 0:00:01\r\u001b[K     |██████▍                         | 51 kB 19.2 MB/s eta 0:00:01\r\u001b[K     |███████▊                        | 61 kB 21.5 MB/s eta 0:00:01\r\u001b[K     |█████████                       | 71 kB 21.8 MB/s eta 0:00:01\r\u001b[K     |██████████▎                     | 81 kB 23.4 MB/s eta 0:00:01\r\u001b[K     |███████████▌                    | 92 kB 25.0 MB/s eta 0:00:01\r\u001b[K     |████████████▉                   | 102 kB 24.2 MB/s eta 0:00:01\r\u001b[K     |██████████████                  | 112 kB 24.2 MB/s eta 0:00:01\r\u001b[K     |███████████████▍                | 122 kB 24.2 MB/s eta 0:00:01\r\u001b[K     |████████████████▋               | 133 kB 24.2 MB/s eta 0:00:01\r\u001b[K     |██████████████████              | 143 kB 24.2 MB/s eta 0:00:01\r\u001b[K     |███████████████████▏            | 153 kB 24.2 MB/s eta 0:00:01\r\u001b[K     |████████████████████▌           | 163 kB 24.2 MB/s eta 0:00:01\r\u001b[K     |█████████████████████▊          | 174 kB 24.2 MB/s eta 0:00:01\r\u001b[K     |███████████████████████         | 184 kB 24.2 MB/s eta 0:00:01\r\u001b[K     |████████████████████████▎       | 194 kB 24.2 MB/s eta 0:00:01\r\u001b[K     |█████████████████████████▋      | 204 kB 24.2 MB/s eta 0:00:01\r\u001b[K     |██████████████████████████▉     | 215 kB 24.2 MB/s eta 0:00:01\r\u001b[K     |████████████████████████████▏   | 225 kB 24.2 MB/s eta 0:00:01\r\u001b[K     |█████████████████████████████▍  | 235 kB 24.2 MB/s eta 0:00:01\r\u001b[K     |██████████████████████████████▊ | 245 kB 24.2 MB/s eta 0:00:01\r\u001b[K     |████████████████████████████████| 256 kB 24.2 MB/s eta 0:00:01\r\u001b[K     |████████████████████████████████| 256 kB 24.2 MB/s \n",
            "\u001b[?25hCollecting g2p-en\n",
            "  Downloading g2p_en-2.1.0-py3-none-any.whl (3.1 MB)\n",
            "\u001b[K     |████████████████████████████████| 3.1 MB 50.1 MB/s \n",
            "\u001b[?25hCollecting torch==1.6.0\n",
            "  Downloading torch-1.6.0-cp37-cp37m-manylinux1_x86_64.whl (748.8 MB)\n",
            "\u001b[K     |████████████████████████████████| 748.8 MB 17 kB/s \n",
            "\u001b[?25hCollecting marisa-trie\n",
            "  Downloading marisa_trie-0.7.7-cp37-cp37m-manylinux_2_5_x86_64.manylinux1_x86_64.manylinux_2_12_x86_64.manylinux2010_x86_64.whl (1.2 MB)\n",
            "\u001b[K     |████████████████████████████████| 1.2 MB 58.5 MB/s \n",
            "\u001b[?25hCollecting nltk>=3.5\n",
            "  Downloading nltk-3.7-py3-none-any.whl (1.5 MB)\n",
            "\u001b[K     |████████████████████████████████| 1.5 MB 46.1 MB/s \n",
            "\u001b[?25hCollecting fairseq>=0.10.2\n",
            "  Downloading fairseq-0.10.2-cp37-cp37m-manylinux1_x86_64.whl (1.7 MB)\n",
            "\u001b[K     |████████████████████████████████| 1.7 MB 41.8 MB/s \n",
            "\u001b[?25hCollecting wget\n",
            "  Downloading wget-3.2.zip (10 kB)\n",
            "Requirement already satisfied: pillow>=4.1.1 in /usr/local/lib/python3.7/dist-packages (from pororo) (7.1.2)\n",
            "Requirement already satisfied: lxml in /usr/local/lib/python3.7/dist-packages (from pororo) (4.2.6)\n",
            "Collecting whoosh\n",
            "  Downloading Whoosh-2.7.4-py2.py3-none-any.whl (468 kB)\n",
            "\u001b[K     |████████████████████████████████| 468 kB 52.8 MB/s \n",
            "\u001b[?25hCollecting transformers>=4.0.0\n",
            "  Downloading transformers-4.19.0-py3-none-any.whl (4.2 MB)\n",
            "\u001b[K     |████████████████████████████████| 4.2 MB 37.3 MB/s \n",
            "\u001b[?25hCollecting torchvision==0.7.0\n",
            "  Downloading torchvision-0.7.0-cp37-cp37m-manylinux1_x86_64.whl (5.9 MB)\n",
            "\u001b[K     |████████████████████████████████| 5.9 MB 45.5 MB/s \n",
            "\u001b[?25hCollecting sentence-transformers>=0.4.1.2\n",
            "  Downloading sentence-transformers-2.2.0.tar.gz (79 kB)\n",
            "\u001b[K     |████████████████████████████████| 79 kB 8.5 MB/s \n",
            "\u001b[?25hCollecting word2word\n",
            "  Downloading word2word-1.0.0-py3-none-any.whl (31 kB)\n",
            "Collecting kss\n",
            "  Downloading kss-3.4.2.tar.gz (42.4 MB)\n",
            "\u001b[K     |████████████████████████████████| 42.4 MB 1.3 MB/s \n",
            "\u001b[?25hRequirement already satisfied: joblib in /usr/local/lib/python3.7/dist-packages (from pororo) (1.1.0)\n",
            "Requirement already satisfied: numpy in /usr/local/lib/python3.7/dist-packages (from torch==1.6.0->pororo) (1.21.6)\n",
            "Requirement already satisfied: future in /usr/local/lib/python3.7/dist-packages (from torch==1.6.0->pororo) (0.16.0)\n",
            "Requirement already satisfied: cffi in /usr/local/lib/python3.7/dist-packages (from fairseq>=0.10.2->pororo) (1.15.0)\n",
            "Collecting hydra-core\n",
            "  Downloading hydra_core-1.1.2-py3-none-any.whl (147 kB)\n",
            "\u001b[K     |████████████████████████████████| 147 kB 61.4 MB/s \n",
            "\u001b[?25hRequirement already satisfied: regex in /usr/local/lib/python3.7/dist-packages (from fairseq>=0.10.2->pororo) (2019.12.20)\n",
            "Collecting dataclasses\n",
            "  Downloading dataclasses-0.6-py3-none-any.whl (14 kB)\n",
            "Requirement already satisfied: tqdm in /usr/local/lib/python3.7/dist-packages (from fairseq>=0.10.2->pororo) (4.64.0)\n",
            "Collecting sacrebleu>=1.4.12\n",
            "  Downloading sacrebleu-2.0.0-py3-none-any.whl (90 kB)\n",
            "\u001b[K     |████████████████████████████████| 90 kB 8.7 MB/s \n",
            "\u001b[?25hRequirement already satisfied: cython in /usr/local/lib/python3.7/dist-packages (from fairseq>=0.10.2->pororo) (0.29.28)\n",
            "Collecting regex\n",
            "  Downloading regex-2022.4.24-cp37-cp37m-manylinux_2_17_x86_64.manylinux2014_x86_64.whl (749 kB)\n",
            "\u001b[K     |████████████████████████████████| 749 kB 71.5 MB/s \n",
            "\u001b[?25hRequirement already satisfied: click in /usr/local/lib/python3.7/dist-packages (from nltk>=3.5->pororo) (7.1.2)\n",
            "Requirement already satisfied: tabulate>=0.8.9 in /usr/local/lib/python3.7/dist-packages (from sacrebleu>=1.4.12->fairseq>=0.10.2->pororo) (0.8.9)\n",
            "Collecting colorama\n",
            "  Downloading colorama-0.4.4-py2.py3-none-any.whl (16 kB)\n",
            "Collecting portalocker\n",
            "  Downloading portalocker-2.4.0-py2.py3-none-any.whl (16 kB)\n",
            "Requirement already satisfied: scikit-learn in /usr/local/lib/python3.7/dist-packages (from sentence-transformers>=0.4.1.2->pororo) (1.0.2)\n",
            "Requirement already satisfied: scipy in /usr/local/lib/python3.7/dist-packages (from sentence-transformers>=0.4.1.2->pororo) (1.4.1)\n",
            "Collecting sentencepiece\n",
            "  Downloading sentencepiece-0.1.96-cp37-cp37m-manylinux_2_17_x86_64.manylinux2014_x86_64.whl (1.2 MB)\n",
            "\u001b[K     |████████████████████████████████| 1.2 MB 43.3 MB/s \n",
            "\u001b[?25hCollecting huggingface-hub\n",
            "  Downloading huggingface_hub-0.6.0-py3-none-any.whl (84 kB)\n",
            "\u001b[K     |████████████████████████████████| 84 kB 3.4 MB/s \n",
            "\u001b[?25hCollecting tokenizers!=0.11.3,<0.13,>=0.11.1\n",
            "  Downloading tokenizers-0.12.1-cp37-cp37m-manylinux_2_12_x86_64.manylinux2010_x86_64.whl (6.6 MB)\n",
            "\u001b[K     |████████████████████████████████| 6.6 MB 38.9 MB/s \n",
            "\u001b[?25hRequirement already satisfied: packaging>=20.0 in /usr/local/lib/python3.7/dist-packages (from transformers>=4.0.0->pororo) (21.3)\n",
            "Requirement already satisfied: filelock in /usr/local/lib/python3.7/dist-packages (from transformers>=4.0.0->pororo) (3.6.0)\n",
            "Requirement already satisfied: requests in /usr/local/lib/python3.7/dist-packages (from transformers>=4.0.0->pororo) (2.23.0)\n",
            "Requirement already satisfied: importlib-metadata in /usr/local/lib/python3.7/dist-packages (from transformers>=4.0.0->pororo) (4.11.3)\n",
            "Collecting pyyaml>=5.1\n",
            "  Downloading PyYAML-6.0-cp37-cp37m-manylinux_2_5_x86_64.manylinux1_x86_64.manylinux_2_12_x86_64.manylinux2010_x86_64.whl (596 kB)\n",
            "\u001b[K     |████████████████████████████████| 596 kB 53.8 MB/s \n",
            "\u001b[?25hRequirement already satisfied: typing-extensions>=3.7.4.3 in /usr/local/lib/python3.7/dist-packages (from huggingface-hub->sentence-transformers>=0.4.1.2->pororo) (4.2.0)\n",
            "Requirement already satisfied: pyparsing!=3.0.5,>=2.0.2 in /usr/local/lib/python3.7/dist-packages (from packaging>=20.0->transformers>=4.0.0->pororo) (3.0.8)\n",
            "Requirement already satisfied: pycparser in /usr/local/lib/python3.7/dist-packages (from cffi->fairseq>=0.10.2->pororo) (2.21)\n",
            "Requirement already satisfied: inflect>=0.3.1 in /usr/local/lib/python3.7/dist-packages (from g2p-en->pororo) (2.1.0)\n",
            "Collecting distance>=0.1.3\n",
            "  Downloading Distance-0.1.3.tar.gz (180 kB)\n",
            "\u001b[K     |████████████████████████████████| 180 kB 79.5 MB/s \n",
            "\u001b[?25hCollecting omegaconf==2.1.*\n",
            "  Downloading omegaconf-2.1.2-py3-none-any.whl (74 kB)\n",
            "\u001b[K     |████████████████████████████████| 74 kB 3.8 MB/s \n",
            "\u001b[?25hCollecting importlib-resources<5.3\n",
            "  Downloading importlib_resources-5.2.3-py3-none-any.whl (27 kB)\n",
            "Collecting antlr4-python3-runtime==4.8\n",
            "  Downloading antlr4-python3-runtime-4.8.tar.gz (112 kB)\n",
            "\u001b[K     |████████████████████████████████| 112 kB 67.7 MB/s \n",
            "\u001b[?25hRequirement already satisfied: zipp>=3.1.0 in /usr/local/lib/python3.7/dist-packages (from importlib-resources<5.3->hydra-core->fairseq>=0.10.2->pororo) (3.8.0)\n",
            "Collecting emoji\n",
            "  Downloading emoji-1.7.0.tar.gz (175 kB)\n",
            "\u001b[K     |████████████████████████████████| 175 kB 69.0 MB/s \n",
            "\u001b[?25hRequirement already satisfied: more_itertools in /usr/local/lib/python3.7/dist-packages (from kss->pororo) (8.12.0)\n",
            "Requirement already satisfied: setuptools in /usr/local/lib/python3.7/dist-packages (from marisa-trie->pororo) (57.4.0)\n",
            "Requirement already satisfied: urllib3!=1.25.0,!=1.25.1,<1.26,>=1.21.1 in /usr/local/lib/python3.7/dist-packages (from requests->transformers>=4.0.0->pororo) (1.24.3)\n",
            "Requirement already satisfied: idna<3,>=2.5 in /usr/local/lib/python3.7/dist-packages (from requests->transformers>=4.0.0->pororo) (2.10)\n",
            "Requirement already satisfied: chardet<4,>=3.0.2 in /usr/local/lib/python3.7/dist-packages (from requests->transformers>=4.0.0->pororo) (3.0.4)\n",
            "Requirement already satisfied: certifi>=2017.4.17 in /usr/local/lib/python3.7/dist-packages (from requests->transformers>=4.0.0->pororo) (2021.10.8)\n",
            "Requirement already satisfied: threadpoolctl>=2.0.0 in /usr/local/lib/python3.7/dist-packages (from scikit-learn->sentence-transformers>=0.4.1.2->pororo) (3.1.0)\n",
            "Building wheels for collected packages: sentence-transformers, distance, antlr4-python3-runtime, kss, emoji, wget\n",
            "  Building wheel for sentence-transformers (setup.py) ... \u001b[?25l\u001b[?25hdone\n",
            "  Created wheel for sentence-transformers: filename=sentence_transformers-2.2.0-py3-none-any.whl size=120747 sha256=7303ef2d09f584e3a97dbaa9f38490bacdf08700be02fdacdc4c1a310870fe3e\n",
            "  Stored in directory: /root/.cache/pip/wheels/83/c0/df/b6873ab7aac3f2465aa9144b6b4c41c4391cfecc027c8b07e7\n",
            "  Building wheel for distance (setup.py) ... \u001b[?25l\u001b[?25hdone\n",
            "  Created wheel for distance: filename=Distance-0.1.3-py3-none-any.whl size=16276 sha256=2aec87f71e6e2b28bcee0bb7bc084a1f0436dda44c935ee86feb7e31cd583d39\n",
            "  Stored in directory: /root/.cache/pip/wheels/b2/10/1b/96fca621a1be378e2fe104cfb0d160bb6cdf3d04a3d35266cc\n",
            "  Building wheel for antlr4-python3-runtime (setup.py) ... \u001b[?25l\u001b[?25hdone\n",
            "  Created wheel for antlr4-python3-runtime: filename=antlr4_python3_runtime-4.8-py3-none-any.whl size=141230 sha256=0831787753649de78c28d8ed9af8bc3c01913e53422b63a8bb6bd6ffa99d7840\n",
            "  Stored in directory: /root/.cache/pip/wheels/ca/33/b7/336836125fc9bb4ceaa4376d8abca10ca8bc84ddc824baea6c\n",
            "  Building wheel for kss (setup.py) ... \u001b[?25l\u001b[?25hdone\n",
            "  Created wheel for kss: filename=kss-3.4.2-py3-none-any.whl size=42448069 sha256=9a5f7bfc1f7df7e1bebed82f83ffdc9c2a3d63dd334e81030090dbad98a4bdf7\n",
            "  Stored in directory: /root/.cache/pip/wheels/ef/22/aa/6399b60516a067ec97fa6599fb2d472aeb25e3f9ee6dae3224\n",
            "  Building wheel for emoji (setup.py) ... \u001b[?25l\u001b[?25hdone\n",
            "  Created wheel for emoji: filename=emoji-1.7.0-py3-none-any.whl size=171046 sha256=2ae31f4ad9d8653fb66ff612c07384de8c9b83263bbcfe6c6b3f18ea6f57a172\n",
            "  Stored in directory: /root/.cache/pip/wheels/8a/4e/b6/57b01db010d17ef6ea9b40300af725ef3e210cb1acfb7ac8b6\n",
            "  Building wheel for wget (setup.py) ... \u001b[?25l\u001b[?25hdone\n",
            "  Created wheel for wget: filename=wget-3.2-py3-none-any.whl size=9675 sha256=7f2b426ecaa6428eea6e72ba5f0f82a4c54c7f932646830c31cf7faf5f10c170\n",
            "  Stored in directory: /root/.cache/pip/wheels/a1/b6/7c/0e63e34eb06634181c63adacca38b79ff8f35c37e3c13e3c02\n",
            "Successfully built sentence-transformers distance antlr4-python3-runtime kss emoji wget\n",
            "Installing collected packages: pyyaml, antlr4-python3-runtime, torch, tokenizers, regex, portalocker, omegaconf, importlib-resources, huggingface-hub, colorama, wget, transformers, torchvision, sentencepiece, sacrebleu, nltk, hydra-core, emoji, distance, dataclasses, word2word, whoosh, sentence-transformers, marisa-trie, kss, g2p-en, fairseq, pororo\n",
            "  Attempting uninstall: pyyaml\n",
            "    Found existing installation: PyYAML 3.13\n",
            "    Uninstalling PyYAML-3.13:\n",
            "      Successfully uninstalled PyYAML-3.13\n",
            "  Attempting uninstall: torch\n",
            "    Found existing installation: torch 1.11.0+cu113\n",
            "    Uninstalling torch-1.11.0+cu113:\n",
            "      Successfully uninstalled torch-1.11.0+cu113\n",
            "  Attempting uninstall: regex\n",
            "    Found existing installation: regex 2019.12.20\n",
            "    Uninstalling regex-2019.12.20:\n",
            "      Successfully uninstalled regex-2019.12.20\n",
            "  Attempting uninstall: importlib-resources\n",
            "    Found existing installation: importlib-resources 5.7.1\n",
            "    Uninstalling importlib-resources-5.7.1:\n",
            "      Successfully uninstalled importlib-resources-5.7.1\n",
            "  Attempting uninstall: torchvision\n",
            "    Found existing installation: torchvision 0.12.0+cu113\n",
            "    Uninstalling torchvision-0.12.0+cu113:\n",
            "      Successfully uninstalled torchvision-0.12.0+cu113\n",
            "  Attempting uninstall: nltk\n",
            "    Found existing installation: nltk 3.2.5\n",
            "    Uninstalling nltk-3.2.5:\n",
            "      Successfully uninstalled nltk-3.2.5\n",
            "\u001b[31mERROR: pip's dependency resolver does not currently take into account all the packages that are installed. This behaviour is the source of the following dependency conflicts.\n",
            "torchtext 0.12.0 requires torch==1.11.0, but you have torch 1.6.0 which is incompatible.\n",
            "torchaudio 0.11.0+cu113 requires torch==1.11.0, but you have torch 1.6.0 which is incompatible.\u001b[0m\n",
            "Successfully installed antlr4-python3-runtime-4.8 colorama-0.4.4 dataclasses-0.6 distance-0.1.3 emoji-1.7.0 fairseq-0.10.2 g2p-en-2.1.0 huggingface-hub-0.6.0 hydra-core-1.1.2 importlib-resources-5.2.3 kss-3.4.2 marisa-trie-0.7.7 nltk-3.7 omegaconf-2.1.2 pororo-0.4.2 portalocker-2.4.0 pyyaml-6.0 regex-2022.4.24 sacrebleu-2.0.0 sentence-transformers-2.2.0 sentencepiece-0.1.96 tokenizers-0.12.1 torch-1.6.0 torchvision-0.7.0 transformers-4.19.0 wget-3.2 whoosh-2.7.4 word2word-1.0.0\n"
          ]
        },
        {
          "output_type": "display_data",
          "data": {
            "application/vnd.colab-display-data+json": {
              "pip_warning": {
                "packages": [
                  "pydevd_plugins"
                ]
              }
            }
          },
          "metadata": {}
        }
      ],
      "source": [
        "pip install pororo"
      ]
    },
    {
      "cell_type": "code",
      "source": [
        "from pororo import Pororo\n",
        "ner = Pororo(task=\"lemmatization\", lang=\"en\")"
      ],
      "metadata": {
        "colab": {
          "base_uri": "https://localhost:8080/"
        },
        "id": "F8nIG414qRw1",
        "outputId": "62bbf1c3-4260-4dcb-8a60-98df602dd18b"
      },
      "execution_count": null,
      "outputs": [
        {
          "output_type": "stream",
          "name": "stderr",
          "text": [
            "[nltk_data] Downloading package punkt to /root/nltk_data...\n",
            "[nltk_data]   Unzipping tokenizers/punkt.zip.\n",
            "[nltk_data] Downloading package wordnet to /root/nltk_data...\n",
            "[nltk_data]   Unzipping corpora/wordnet.zip.\n",
            "[nltk_data] Downloading package averaged_perceptron_tagger to\n",
            "[nltk_data]     /root/nltk_data...\n",
            "[nltk_data]   Unzipping taggers/averaged_perceptron_tagger.zip.\n"
          ]
        }
      ]
    },
    {
      "cell_type": "code",
      "source": [
        "import nltk\n",
        "nltk.download('omw-1.4')"
      ],
      "metadata": {
        "colab": {
          "base_uri": "https://localhost:8080/"
        },
        "id": "EfNJYJRTqbqm",
        "outputId": "49384d58-d435-4794-e944-ad77caed87f7"
      },
      "execution_count": null,
      "outputs": [
        {
          "output_type": "stream",
          "name": "stderr",
          "text": [
            "[nltk_data] Downloading package omw-1.4 to /root/nltk_data...\n",
            "[nltk_data]   Unzipping corpora/omw-1.4.zip.\n"
          ]
        },
        {
          "output_type": "execute_result",
          "data": {
            "text/plain": [
              "True"
            ]
          },
          "metadata": {},
          "execution_count": 5
        }
      ]
    },
    {
      "cell_type": "code",
      "source": [
        "ner(\"Michael Jeffrey Jordan (born February 17, 1963) is an American businessman and former professional basketball player.\")"
      ],
      "metadata": {
        "colab": {
          "base_uri": "https://localhost:8080/"
        },
        "id": "7iem_aPoqti6",
        "outputId": "8dee4c35-2938-4477-e9d7-75eb71feafc1"
      },
      "execution_count": null,
      "outputs": [
        {
          "output_type": "execute_result",
          "data": {
            "text/plain": [
              "['Michael',\n",
              " 'Jeffrey',\n",
              " 'Jordan',\n",
              " '(',\n",
              " 'born',\n",
              " 'February',\n",
              " '17',\n",
              " ',',\n",
              " '1963',\n",
              " ')',\n",
              " 'be',\n",
              " 'an',\n",
              " 'American',\n",
              " 'businessman',\n",
              " 'and',\n",
              " 'former',\n",
              " 'professional',\n",
              " 'basketball',\n",
              " 'player',\n",
              " '.']"
            ]
          },
          "metadata": {},
          "execution_count": 6
        }
      ]
    },
    {
      "cell_type": "code",
      "source": [
        "ner = Pororo(task=\"named_entity_recognition\", lang=\"en\")\n",
        "ner(\"Michael Jeffrey Jordan (born February 17, 1963) is an American businessman and former professional basketball player.\")"
      ],
      "metadata": {
        "colab": {
          "base_uri": "https://localhost:8080/"
        },
        "id": "gXsYLzFurw1S",
        "outputId": "7610b332-5b50-473f-feef-1d53b8c4d441"
      },
      "execution_count": null,
      "outputs": [
        {
          "output_type": "stream",
          "name": "stderr",
          "text": [
            "\n",
            "\n",
            "\n"
          ]
        },
        {
          "output_type": "execute_result",
          "data": {
            "text/plain": [
              "[('Michael Jeffrey Jordan', 'PERSON'),\n",
              " ('(', 'O'),\n",
              " ('born', 'O'),\n",
              " ('February 17, 1963)', 'DATE'),\n",
              " ('is', 'O'),\n",
              " ('an', 'O'),\n",
              " ('American', 'NORP'),\n",
              " ('businessman', 'O'),\n",
              " ('and', 'O'),\n",
              " ('former', 'O'),\n",
              " ('professional', 'O'),\n",
              " ('basketball', 'O'),\n",
              " ('player', 'O'),\n",
              " ('.', 'O')]"
            ]
          },
          "metadata": {},
          "execution_count": 11
        }
      ]
    },
    {
      "cell_type": "code",
      "source": [
        "ner = Pororo(task=\"pos_tagging\", lang=\"en\")\n",
        "ner(\"Michael Jeffrey Jordan (born February 17, 1963) is an American businessman and former professional basketball player.\")"
      ],
      "metadata": {
        "colab": {
          "base_uri": "https://localhost:8080/"
        },
        "id": "OMPIIiCUsMlJ",
        "outputId": "b8d2d4b4-3c80-4d5e-b922-9945ee364d33"
      },
      "execution_count": null,
      "outputs": [
        {
          "output_type": "execute_result",
          "data": {
            "text/plain": [
              "[('Michael', 'NNP'),\n",
              " (' ', 'SPACE'),\n",
              " ('Jeffrey', 'NNP'),\n",
              " (' ', 'SPACE'),\n",
              " ('Jordan', 'NNP'),\n",
              " (' ', 'SPACE'),\n",
              " ('(', '('),\n",
              " ('born', 'JJ'),\n",
              " (' ', 'SPACE'),\n",
              " ('February', 'NNP'),\n",
              " (' ', 'SPACE'),\n",
              " ('17', 'CD'),\n",
              " (',', ','),\n",
              " (' ', 'SPACE'),\n",
              " ('1963', 'CD'),\n",
              " (')', ')'),\n",
              " (' ', 'SPACE'),\n",
              " ('is', 'VBZ'),\n",
              " (' ', 'SPACE'),\n",
              " ('an', 'DT'),\n",
              " (' ', 'SPACE'),\n",
              " ('American', 'JJ'),\n",
              " (' ', 'SPACE'),\n",
              " ('businessman', 'NN'),\n",
              " (' ', 'SPACE'),\n",
              " ('and', 'CC'),\n",
              " (' ', 'SPACE'),\n",
              " ('former', 'JJ'),\n",
              " (' ', 'SPACE'),\n",
              " ('professional', 'NN'),\n",
              " (' ', 'SPACE'),\n",
              " ('basketball', 'NN'),\n",
              " (' ', 'SPACE'),\n",
              " ('player', 'NN'),\n",
              " ('.', '.')]"
            ]
          },
          "metadata": {},
          "execution_count": 12
        }
      ]
    },
    {
      "cell_type": "code",
      "source": [
        "ner = Pororo(task=\"review_scoring\", lang=\"en\")\n",
        "ner(\"Michael Jeffrey Jordan (born February 17, 1963) is an American businessman and former professional basketball player.\")"
      ],
      "metadata": {
        "colab": {
          "base_uri": "https://localhost:8080/"
        },
        "id": "QeOXB11YtCcF",
        "outputId": "72ad7f7b-a8cb-4752-e931-cdaa0a70dc7d"
      },
      "execution_count": null,
      "outputs": [
        {
          "output_type": "stream",
          "name": "stderr",
          "text": [
            "\n"
          ]
        },
        {
          "output_type": "execute_result",
          "data": {
            "text/plain": [
              "4.17"
            ]
          },
          "metadata": {},
          "execution_count": 13
        }
      ]
    },
    {
      "cell_type": "code",
      "source": [
        "ner = Pororo(task=\"review_scoring\", lang=\"ko\")\n",
        "ner(\"카카오는 다양한 모바일 및 인터넷 서비스를 제공하는 IT 기업이다.\")"
      ],
      "metadata": {
        "colab": {
          "base_uri": "https://localhost:8080/"
        },
        "id": "ScyktYN1ugxU",
        "outputId": "1ad77484-c5bf-4bc6-a26b-4936e4c7adbd"
      },
      "execution_count": null,
      "outputs": [
        {
          "output_type": "stream",
          "name": "stderr",
          "text": [
            "\n",
            "\n"
          ]
        },
        {
          "output_type": "execute_result",
          "data": {
            "text/plain": [
              "4.86"
            ]
          },
          "metadata": {},
          "execution_count": 16
        }
      ]
    },
    {
      "cell_type": "code",
      "source": [
        "ner = Pororo(task=\"named_entity_recognition\", lang=\"ko\")\n",
        "ner(\"카카오는 다양한 모바일 및 인터넷 서비스를 제공하는 IT 기업이다.\")"
      ],
      "metadata": {
        "colab": {
          "base_uri": "https://localhost:8080/"
        },
        "id": "4R2yqMU1ul2p",
        "outputId": "2129c627-211f-4e3b-d96a-7461f3b88ad8"
      },
      "execution_count": null,
      "outputs": [
        {
          "output_type": "stream",
          "name": "stderr",
          "text": [
            "\n",
            "\n",
            "[Korean Sentence Splitter]: Initializing Pynori...\n"
          ]
        },
        {
          "output_type": "execute_result",
          "data": {
            "text/plain": [
              "[('카카오', 'ORGANIZATION'),\n",
              " ('는', 'O'),\n",
              " (' ', 'O'),\n",
              " ('다양한', 'O'),\n",
              " (' ', 'O'),\n",
              " ('모바일', 'O'),\n",
              " (' ', 'O'),\n",
              " ('및', 'O'),\n",
              " (' ', 'O'),\n",
              " ('인터넷', 'O'),\n",
              " (' ', 'O'),\n",
              " ('서비스를', 'O'),\n",
              " (' ', 'O'),\n",
              " ('제공하는', 'O'),\n",
              " (' ', 'O'),\n",
              " ('IT', 'STUDY_FIELD'),\n",
              " (' ', 'O'),\n",
              " ('기업이다.', 'O')]"
            ]
          },
          "metadata": {},
          "execution_count": 17
        }
      ]
    },
    {
      "cell_type": "code",
      "source": [
        "pip install koparadigm"
      ],
      "metadata": {
        "colab": {
          "base_uri": "https://localhost:8080/"
        },
        "id": "n1qE4ebVwqrD",
        "outputId": "1f294348-b16f-4bf5-fab7-df1578cf955f"
      },
      "execution_count": null,
      "outputs": [
        {
          "output_type": "stream",
          "name": "stdout",
          "text": [
            "Collecting koparadigm\n",
            "  Downloading koparadigm-0.10.0-py3-none-any.whl (1.6 MB)\n",
            "\u001b[K     |████████████████████████████████| 1.6 MB 29.1 MB/s \n",
            "\u001b[?25hCollecting jamo>=0.4.1\n",
            "  Downloading jamo-0.4.1-py3-none-any.whl (9.5 kB)\n",
            "Collecting xlrd==1.2.0\n",
            "  Downloading xlrd-1.2.0-py2.py3-none-any.whl (103 kB)\n",
            "\u001b[K     |████████████████████████████████| 103 kB 58.0 MB/s \n",
            "\u001b[?25hInstalling collected packages: xlrd, jamo, koparadigm\n",
            "  Attempting uninstall: xlrd\n",
            "    Found existing installation: xlrd 1.1.0\n",
            "    Uninstalling xlrd-1.1.0:\n",
            "      Successfully uninstalled xlrd-1.1.0\n",
            "Successfully installed jamo-0.4.1 koparadigm-0.10.0 xlrd-1.2.0\n"
          ]
        }
      ]
    },
    {
      "cell_type": "code",
      "source": [
        "ner = Pororo(task=\"morphological_inflection\", lang=\"ko\")\n",
        "ner(\"카카오는 다양한 모바일 및 인터넷 서비스를 제공하는 IT 기업이다.\")"
      ],
      "metadata": {
        "colab": {
          "base_uri": "https://localhost:8080/"
        },
        "id": "o6SFjnSYwvGD",
        "outputId": "8791bece-18c0-4a3a-986f-866dc0f8759d"
      },
      "execution_count": null,
      "outputs": [
        {
          "output_type": "stream",
          "name": "stdout",
          "text": [
            "카카오는 다양한 모바일 및 인터넷 서비스를 제공하는 IT 기업이다. is NOT found.\n"
          ]
        }
      ]
    },
    {
      "cell_type": "code",
      "source": [
        "pip install python-mecab-ko"
      ],
      "metadata": {
        "colab": {
          "base_uri": "https://localhost:8080/"
        },
        "id": "RITDsbfBxXP6",
        "outputId": "21076e6a-1d58-4b76-af2e-ced1bad43616"
      },
      "execution_count": null,
      "outputs": [
        {
          "output_type": "stream",
          "name": "stdout",
          "text": [
            "Collecting python-mecab-ko\n",
            "  Downloading python-mecab-ko-1.0.12.tar.gz (9.7 kB)\n",
            "Collecting pybind11~=2.0\n",
            "  Downloading pybind11-2.9.2-py2.py3-none-any.whl (213 kB)\n",
            "\u001b[K     |████████████████████████████████| 213 kB 25.6 MB/s \n",
            "\u001b[?25hBuilding wheels for collected packages: python-mecab-ko\n",
            "  Building wheel for python-mecab-ko (setup.py) ... \u001b[?25lerror\n",
            "\u001b[31m  ERROR: Failed building wheel for python-mecab-ko\u001b[0m\n",
            "\u001b[?25h  Running setup.py clean for python-mecab-ko\n",
            "Failed to build python-mecab-ko\n",
            "Installing collected packages: pybind11, python-mecab-ko\n",
            "    Running setup.py install for python-mecab-ko ... \u001b[?25l\u001b[?25hdone\n",
            "\u001b[33m  DEPRECATION: python-mecab-ko was installed using the legacy 'setup.py install' method, because a wheel could not be built for it. A possible replacement is to fix the wheel build issue reported above. You can find discussion regarding this at https://github.com/pypa/pip/issues/8368.\u001b[0m\n",
            "Successfully installed pybind11-2.9.2 python-mecab-ko-1.0.12\n"
          ]
        }
      ]
    },
    {
      "cell_type": "code",
      "source": [
        "ner = Pororo(task=\"pos_tagging\", lang=\"ko\")\n",
        "ner(\"카카오는 다양한 모바일 및 인터넷 서비스를 제공하는 IT 기업이다.\")"
      ],
      "metadata": {
        "colab": {
          "base_uri": "https://localhost:8080/"
        },
        "id": "J0B9kZfNxZM9",
        "outputId": "62e7048a-17fc-4f31-89c3-dde2ce290c2b"
      },
      "execution_count": null,
      "outputs": [
        {
          "output_type": "execute_result",
          "data": {
            "text/plain": [
              "[('카카오', 'NNP'),\n",
              " ('는', 'JX'),\n",
              " (' ', 'SPACE'),\n",
              " ('다양', 'XR'),\n",
              " ('하', 'XSA'),\n",
              " ('ᆫ', 'ETM'),\n",
              " (' ', 'SPACE'),\n",
              " ('모바일', 'NNP'),\n",
              " (' ', 'SPACE'),\n",
              " ('및', 'MAJ'),\n",
              " (' ', 'SPACE'),\n",
              " ('인터넷', 'NNG'),\n",
              " (' ', 'SPACE'),\n",
              " ('서비스', 'NNG'),\n",
              " ('를', 'JKO'),\n",
              " (' ', 'SPACE'),\n",
              " ('제공', 'NNG'),\n",
              " ('하', 'XSV'),\n",
              " ('는', 'ETM'),\n",
              " (' ', 'SPACE'),\n",
              " ('IT', 'SL'),\n",
              " (' ', 'SPACE'),\n",
              " ('기업', 'NNG'),\n",
              " ('이', 'VCP'),\n",
              " ('다', 'EF'),\n",
              " ('.', 'SF')]"
            ]
          },
          "metadata": {},
          "execution_count": 24
        }
      ]
    },
    {
      "cell_type": "code",
      "source": [
        "ner = Pororo(task=\"morphological_inflection\", lang=\"en\")\n",
        "ner(\"love\")"
      ],
      "metadata": {
        "id": "PkTOTuVhyCeN",
        "colab": {
          "base_uri": "https://localhost:8080/"
        },
        "outputId": "a8c70e21-8be9-4f91-f72b-491df7f4f61e"
      },
      "execution_count": null,
      "outputs": [
        {
          "output_type": "execute_result",
          "data": {
            "text/plain": [
              "{'NN': [('loves', 'NNS')],\n",
              " 'VB': [('loves', 'VBZ'),\n",
              "  ('loved', 'VBD'),\n",
              "  ('loved', 'VBN'),\n",
              "  ('loving', 'VBG')]}"
            ]
          },
          "metadata": {},
          "execution_count": 25
        }
      ]
    },
    {
      "cell_type": "code",
      "source": [
        "ner = Pororo(task=\"morphological_inflection\", lang=\"ko\")\n",
        "ner(\"곱\")"
      ],
      "metadata": {
        "colab": {
          "base_uri": "https://localhost:8080/"
        },
        "id": "fzCvdUne2Zwu",
        "outputId": "f4ef2fe6-6cf4-4135-fee9-8a27290a92c5"
      },
      "execution_count": null,
      "outputs": [
        {
          "output_type": "execute_result",
          "data": {
            "text/plain": [
              "[['Action Verb',\n",
              "  [('거나', '곱거나'),\n",
              "   ('거늘', '곱거늘'),\n",
              "   ('거니', '곱거니'),\n",
              "   ('거니와', '곱거니와'),\n",
              "   ('거드면', '곱거드면'),\n",
              "   ('거든', '곱거든'),\n",
              "   ('건', '곱건'),\n",
              "   ('건마는', '곱건마는'),\n",
              "   ('것다', '곱것다'),\n",
              "   ('게', '곱게'),\n",
              "   ('겠', '곱겠'),\n",
              "   ('고', '곱고'),\n",
              "   ('고도', '곱고도'),\n",
              "   ('고말고', '곱고말고'),\n",
              "   ('관데', '곱관데'),\n",
              "   ('기', '곱기'),\n",
              "   ('기로', '곱기로'),\n",
              "   ('기로니', '곱기로니'),\n",
              "   ('기로서', '곱기로서'),\n",
              "   ('기로서니', '곱기로서니'),\n",
              "   ('기로선들', '곱기로선들'),\n",
              "   ('기에', '곱기에'),\n",
              "   ('네', '곱네'),\n",
              "   ('니', '곱니'),\n",
              "   ('다', '곱다'),\n",
              "   ('다가', '곱다가'),\n",
              "   ('다가는', '곱다가는'),\n",
              "   ('다간', '곱다간'),\n",
              "   ('다니', '곱다니'),\n",
              "   ('다마다', '곱다마다'),\n",
              "   ('더', '곱더'),\n",
              "   ('더구나', '곱더구나'),\n",
              "   ('더구려', '곱더구려'),\n",
              "   ('더군', '곱더군'),\n",
              "   ('더냐', '곱더냐'),\n",
              "   ('더뇨', '곱더뇨'),\n",
              "   ('더니', '곱더니'),\n",
              "   ('더니라', '곱더니라'),\n",
              "   ('더니마는', '곱더니마는'),\n",
              "   ('더니만', '곱더니만'),\n",
              "   ('더니이까', '곱더니이까'),\n",
              "   ('더니이다', '곱더니이다'),\n",
              "   ('더라', '곱더라'),\n",
              "   ('더라나', '곱더라나'),\n",
              "   ('더라니', '곱더라니'),\n",
              "   ('더라니까', '곱더라니까'),\n",
              "   ('더라도', '곱더라도'),\n",
              "   ('더라며', '곱더라며'),\n",
              "   ('더라면', '곱더라면'),\n",
              "   ('더라면서', '곱더라면서'),\n",
              "   ('더라손', '곱더라손'),\n",
              "   ('더라지', '곱더라지'),\n",
              "   ('더람', '곱더람'),\n",
              "   ('더이까', '곱더이까'),\n",
              "   ('더이다', '곱더이다'),\n",
              "   ('던', '곱던'),\n",
              "   ('던가', '곱던가'),\n",
              "   ('던감', '곱던감'),\n",
              "   ('던걸', '곱던걸'),\n",
              "   ('던고', '곱던고'),\n",
              "   ('던데', '곱던데'),\n",
              "   ('던바', '곱던바'),\n",
              "   ('던지', '곱던지'),\n",
              "   ('데', '곱데'),\n",
              "   ('데요', '곱데요'),\n",
              "   ('도다', '곱도다'),\n",
              "   ('되', '곱되'),\n",
              "   ('든', '곱든'),\n",
              "   ('든가', '곱든가'),\n",
              "   ('든지', '곱든지'),\n",
              "   ('듯', '곱듯'),\n",
              "   ('듯이', '곱듯이'),\n",
              "   ('소이까', '곱소이까'),\n",
              "   ('죠', '곱죠'),\n",
              "   ('지마는', '곱지마는'),\n",
              "   ('지만', '곱지만'),\n",
              "   ('지요', '곱지요'),\n",
              "   ('게', '곱게'),\n",
              "   ('고는', '곱고는'),\n",
              "   ('누', '곱누'),\n",
              "   ('디', '곱디'),\n",
              "   ('소', '곱소'),\n",
              "   ('지', '곱지'),\n",
              "   ('아', '곱아'),\n",
              "   ('아도', '곱아도'),\n",
              "   ('아라', '곱아라'),\n",
              "   ('아서', '곱아서'),\n",
              "   ('아야', '곱아야'),\n",
              "   ('아야만', '곱아야만'),\n",
              "   ('아야지', '곱아야지'),\n",
              "   ('아요', '곱아요'),\n",
              "   ('아지이다', '곱아지이다'),\n",
              "   ('았', '곱았'),\n",
              "   ('았었', '곱았었'),\n",
              "   ('았자', '곱았자'),\n",
              "   ('으나', '곱으나'),\n",
              "   ('으나마', '곱으나마'),\n",
              "   ('으니', '곱으니'),\n",
              "   ('으니까', '곱으니까'),\n",
              "   ('으니까는', '곱으니까는'),\n",
              "   ('으니만치', '곱으니만치'),\n",
              "   ('으니만큼', '곱으니만큼'),\n",
              "   ('으려니와', '곱으려니와'),\n",
              "   ('으려면', '곱으려면'),\n",
              "   ('으련마는', '곱으련마는'),\n",
              "   ('으렷다', '곱으렷다'),\n",
              "   ('으리', '곱으리'),\n",
              "   ('으리까', '곱으리까'),\n",
              "   ('으리니', '곱으리니'),\n",
              "   ('으리니라', '곱으리니라'),\n",
              "   ('으리다', '곱으리다'),\n",
              "   ('으리라', '곱으리라'),\n",
              "   ('으리로다', '곱으리로다'),\n",
              "   ('으리만치', '곱으리만치'),\n",
              "   ('으리만큼', '곱으리만큼'),\n",
              "   ('으리오', '곱으리오'),\n",
              "   ('으매', '곱으매'),\n",
              "   ('으며', '곱으며'),\n",
              "   ('으면', '곱으면'),\n",
              "   ('으면서', '곱으면서'),\n",
              "   ('으므로', '곱으므로'),\n",
              "   ('으사', '곱으사'),\n",
              "   ('으세요', '곱으세요'),\n",
              "   ('으셔요', '곱으셔요'),\n",
              "   ('으소서', '곱으소서'),\n",
              "   ('으시', '곱으시'),\n",
              "   ('으시어요', '곱으시어요'),\n",
              "   ('으오', '곱으오'),\n",
              "   ('으오니까', '곱으오니까'),\n",
              "   ('으오리까', '곱으오리까'),\n",
              "   ('으오리다', '곱으오리다'),\n",
              "   ('으오리이까', '곱으오리이까'),\n",
              "   ('으오리이다', '곱으오리이다'),\n",
              "   ('으오이다', '곱으오이다'),\n",
              "   ('으옵', '곱으옵'),\n",
              "   ('으옵나이까', '곱으옵나이까'),\n",
              "   ('으옵나이다', '곱으옵나이다'),\n",
              "   ('으옵니까', '곱으옵니까'),\n",
              "   ('으옵니다', '곱으옵니다'),\n",
              "   ('으옵디까', '곱으옵디까'),\n",
              "   ('으옵디다', '곱으옵디다'),\n",
              "   ('으옵소서', '곱으옵소서'),\n",
              "   ('으옵시', '곱으옵시'),\n",
              "   ('으와', '곱으와'),\n",
              "   ('으우', '곱으우'),\n",
              "   ('은', '곱은'),\n",
              "   ('은걸', '곱은걸'),\n",
              "   ('은들', '곱은들'),\n",
              "   ('은즉', '곱은즉'),\n",
              "   ('은즉슨', '곱은즉슨'),\n",
              "   ('을', '곱을'),\n",
              "   ('을걸', '곱을걸'),\n",
              "   ('을까', '곱을까'),\n",
              "   ('을는지', '곱을는지'),\n",
              "   ('을라', '곱을라'),\n",
              "   ('을라고', '곱을라고'),\n",
              "   ('을러니', '곱을러니'),\n",
              "   ('을러라', '곱을러라'),\n",
              "   ('을런가', '곱을런가'),\n",
              "   ('을런고', '곱을런고'),\n",
              "   ('을레', '곱을레'),\n",
              "   ('을레라', '곱을레라'),\n",
              "   ('을망정', '곱을망정'),\n",
              "   ('을밖에', '곱을밖에'),\n",
              "   ('을뿐더러', '곱을뿐더러'),\n",
              "   ('을새', '곱을새'),\n",
              "   ('을세', '곱을세'),\n",
              "   ('을세라', '곱을세라'),\n",
              "   ('을세말이지', '곱을세말이지'),\n",
              "   ('을수록', '곱을수록'),\n",
              "   ('을시', '곱을시'),\n",
              "   ('을쏘냐', '곱을쏘냐'),\n",
              "   ('을쏜가', '곱을쏜가'),\n",
              "   ('을지', '곱을지'),\n",
              "   ('을지나', '곱을지나'),\n",
              "   ('을지니', '곱을지니'),\n",
              "   ('을지니라', '곱을지니라'),\n",
              "   ('을지라', '곱을지라'),\n",
              "   ('을지라도', '곱을지라도'),\n",
              "   ('을지로다', '곱을지로다'),\n",
              "   ('을지며', '곱을지며'),\n",
              "   ('을지어다', '곱을지어다'),\n",
              "   ('을지언정', '곱을지언정'),\n",
              "   ('을진대', '곱을진대'),\n",
              "   ('을진대는', '곱을진대는'),\n",
              "   ('을진저', '곱을진저'),\n",
              "   ('음', '곱음'),\n",
              "   ('음에도', '곱음에도'),\n",
              "   ('음에랴', '곱음에랴'),\n",
              "   ('읍시오', '곱읍시오'),\n",
              "   ('습네', '곱습네'),\n",
              "   ('습늰다', '곱습늰다'),\n",
              "   ('습니까', '곱습니까'),\n",
              "   ('습니다', '곱습니다'),\n",
              "   ('습디까', '곱습디까'),\n",
              "   ('습디다', '곱습디다'),\n",
              "   ('습딘다', '곱습딘다'),\n",
              "   ('습죠', '곱습죠'),\n",
              "   ('습지요', '곱습지요'),\n",
              "   ('거라', '곱거라'),\n",
              "   ('건대', '곱건대'),\n",
              "   ('게', '곱게'),\n",
              "   ('게끔', '곱게끔'),\n",
              "   ('게나', '곱게나'),\n",
              "   ('고는', '곱고는'),\n",
              "   ('고서', '곱고서'),\n",
              "   ('고야', '곱고야'),\n",
              "   ('곤', '곱곤'),\n",
              "   ('구려', '곱구려'),\n",
              "   ('구먼', '곱구먼'),\n",
              "   ('나', '곱나'),\n",
              "   ('나니', '곱나니'),\n",
              "   ('남', '곱남'),\n",
              "   ('노니', '곱노니'),\n",
              "   ('노라', '곱노라'),\n",
              "   ('노라고', '곱노라고'),\n",
              "   ('누나', '곱누나'),\n",
              "   ('누먼', '곱누먼'),\n",
              "   ('느라', '곱느라'),\n",
              "   ('느라고', '곱느라고'),\n",
              "   ('는구나', '곱는구나'),\n",
              "   ('는구려', '곱는구려'),\n",
              "   ('는군', '곱는군'),\n",
              "   ('도록', '곱도록'),\n",
              "   ('세나', '곱세나'),\n",
              "   ('자', '곱자'),\n",
              "   ('자고', '곱자고'),\n",
              "   ('자꾸나', '곱자꾸나'),\n",
              "   ('자느니', '곱자느니'),\n",
              "   ('자니까', '곱자니까'),\n",
              "   ('자마자', '곱자마자'),\n",
              "   ('자며', '곱자며'),\n",
              "   ('자면', '곱자면'),\n",
              "   ('자면서', '곱자면서'),\n",
              "   ('자손', '곱자손'),\n",
              "   ('아다', '곱아다'),\n",
              "   ('아다가', '곱아다가'),\n",
              "   ('고자', '곱고자'),\n",
              "   ('나이까', '곱나이까'),\n",
              "   ('나이다', '곱나이다'),\n",
              "   ('노라니', '곱노라니'),\n",
              "   ('노라니까', '곱노라니까'),\n",
              "   ('노라면', '곱노라면'),\n",
              "   ('느냐', '곱느냐'),\n",
              "   ('느냐고', '곱느냐고'),\n",
              "   ('느뇨', '곱느뇨'),\n",
              "   ('느니', '곱느니'),\n",
              "   ('느니라', '곱느니라'),\n",
              "   ('느니만', '곱느니만'),\n",
              "   ('느니만치', '곱느니만치'),\n",
              "   ('느니만큼', '곱느니만큼'),\n",
              "   ('는', '곱는'),\n",
              "   ('는가', '곱는가'),\n",
              "   ('는감', '곱는감'),\n",
              "   ('는걸', '곱는걸'),\n",
              "   ('는고', '곱는고'),\n",
              "   ('는데', '곱는데'),\n",
              "   ('는뎁쇼', '곱는뎁쇼'),\n",
              "   ('는바', '곱는바'),\n",
              "   ('는지', '곱는지'),\n",
              "   ('는지고', '곱는지고'),\n",
              "   ('는지라', '곱는지라'),\n",
              "   ('으라', '곱으라'),\n",
              "   ('으라고', '곱으라고'),\n",
              "   ('으라나', '곱으라나'),\n",
              "   ('으라느니', '곱으라느니'),\n",
              "   ('으라니까', '곱으라니까'),\n",
              "   ('으라며', '곱으라며'),\n",
              "   ('으라면서', '곱으라면서'),\n",
              "   ('으라손', '곱으라손'),\n",
              "   ('으락', '곱으락'),\n",
              "   ('으란', '곱으란'),\n",
              "   ('으람', '곱으람'),\n",
              "   ('으랴', '곱으랴'),\n",
              "   ('으러', '곱으러'),\n",
              "   ('으려', '곱으려'),\n",
              "   ('으려거든', '곱으려거든'),\n",
              "   ('으려고', '곱으려고'),\n",
              "   ('으려나', '곱으려나'),\n",
              "   ('으려니', '곱으려니'),\n",
              "   ('으려든', '곱으려든'),\n",
              "   ('으려무나', '곱으려무나'),\n",
              "   ('으련', '곱으련'),\n",
              "   ('으렴', '곱으렴'),\n",
              "   ('으렵니까', '곱으렵니까'),\n",
              "   ('으렵니다', '곱으렵니다'),\n",
              "   ('으마', '곱으마'),\n",
              "   ('으사이다', '곱으사이다'),\n",
              "   ('으세', '곱으세'),\n",
              "   ('으시라', '곱으시라'),\n",
              "   ('으시압', '곱으시압'),\n",
              "   ('으십사', '곱으십사'),\n",
              "   ('으십시다', '곱으십시다'),\n",
              "   ('으십시오', '곱으십시오'),\n",
              "   ('을거나', '곱을거나'),\n",
              "   ('을게', '곱을게'),\n",
              "   ('을깝쇼', '곱을깝쇼'),\n",
              "   ('을라치면', '곱을라치면'),\n",
              "   ('을락', '곱을락'),\n",
              "   ('을래', '곱을래'),\n",
              "   ('을작시면', '곱을작시면'),\n",
              "   ('음세', '곱음세'),\n",
              "   ('읍시다', '곱읍시다'),\n",
              "   ('읍시사', '곱읍시사'),\n",
              "   ('는다', '곱는다'),\n",
              "   ('는다고', '곱는다고'),\n",
              "   ('는다나', '곱는다나'),\n",
              "   ('는다네', '곱는다네'),\n",
              "   ('는다느니', '곱는다느니'),\n",
              "   ('는다니', '곱는다니'),\n",
              "   ('는다니까', '곱는다니까'),\n",
              "   ('는다더라', '곱는다더라'),\n",
              "   ('는다마는', '곱는다마는'),\n",
              "   ('는다며', '곱는다며'),\n",
              "   ('는다면', '곱는다면'),\n",
              "   ('는다면서', '곱는다면서'),\n",
              "   ('는다손', '곱는다손'),\n",
              "   ('는다오', '곱는다오'),\n",
              "   ('는다지', '곱는다지'),\n",
              "   ('는단다', '곱는단다'),\n",
              "   ('는담', '곱는담'),\n",
              "   ('는답니까', '곱는답니까'),\n",
              "   ('는답니다', '곱는답니다'),\n",
              "   ('는답시고', '곱는답시고'),\n",
              "   ('는대', '곱는대'),\n",
              "   ('는대요', '곱는대요')]],\n",
              " ['Descriptive Verb',\n",
              "  [('거나', '곱거나'),\n",
              "   ('거늘', '곱거늘'),\n",
              "   ('거니', '곱거니'),\n",
              "   ('거니와', '곱거니와'),\n",
              "   ('거드면', '곱거드면'),\n",
              "   ('거든', '곱거든'),\n",
              "   ('건', '곱건'),\n",
              "   ('건마는', '곱건마는'),\n",
              "   ('것다', '곱것다'),\n",
              "   ('게', '곱게'),\n",
              "   ('겠', '곱겠'),\n",
              "   ('고', '곱고'),\n",
              "   ('고도', '곱고도'),\n",
              "   ('고말고', '곱고말고'),\n",
              "   ('관데', '곱관데'),\n",
              "   ('기', '곱기'),\n",
              "   ('기로', '곱기로'),\n",
              "   ('기로니', '곱기로니'),\n",
              "   ('기로서', '곱기로서'),\n",
              "   ('기로서니', '곱기로서니'),\n",
              "   ('기로선들', '곱기로선들'),\n",
              "   ('기에', '곱기에'),\n",
              "   ('네', '곱네'),\n",
              "   ('니', '곱니'),\n",
              "   ('다', '곱다'),\n",
              "   ('다가', '곱다가'),\n",
              "   ('다가는', '곱다가는'),\n",
              "   ('다간', '곱다간'),\n",
              "   ('다니', '곱다니'),\n",
              "   ('다마다', '곱다마다'),\n",
              "   ('더', '곱더'),\n",
              "   ('더구나', '곱더구나'),\n",
              "   ('더구려', '곱더구려'),\n",
              "   ('더군', '곱더군'),\n",
              "   ('더냐', '곱더냐'),\n",
              "   ('더뇨', '곱더뇨'),\n",
              "   ('더니', '곱더니'),\n",
              "   ('더니라', '곱더니라'),\n",
              "   ('더니마는', '곱더니마는'),\n",
              "   ('더니만', '곱더니만'),\n",
              "   ('더니이까', '곱더니이까'),\n",
              "   ('더니이다', '곱더니이다'),\n",
              "   ('더라', '곱더라'),\n",
              "   ('더라나', '곱더라나'),\n",
              "   ('더라니', '곱더라니'),\n",
              "   ('더라니까', '곱더라니까'),\n",
              "   ('더라도', '곱더라도'),\n",
              "   ('더라며', '곱더라며'),\n",
              "   ('더라면', '곱더라면'),\n",
              "   ('더라면서', '곱더라면서'),\n",
              "   ('더라손', '곱더라손'),\n",
              "   ('더라지', '곱더라지'),\n",
              "   ('더람', '곱더람'),\n",
              "   ('더이까', '곱더이까'),\n",
              "   ('더이다', '곱더이다'),\n",
              "   ('던', '곱던'),\n",
              "   ('던가', '곱던가'),\n",
              "   ('던감', '곱던감'),\n",
              "   ('던걸', '곱던걸'),\n",
              "   ('던고', '곱던고'),\n",
              "   ('던데', '곱던데'),\n",
              "   ('던바', '곱던바'),\n",
              "   ('던지', '곱던지'),\n",
              "   ('데', '곱데'),\n",
              "   ('데요', '곱데요'),\n",
              "   ('도다', '곱도다'),\n",
              "   ('되', '곱되'),\n",
              "   ('든', '곱든'),\n",
              "   ('든가', '곱든가'),\n",
              "   ('든지', '곱든지'),\n",
              "   ('듯', '곱듯'),\n",
              "   ('듯이', '곱듯이'),\n",
              "   ('소이까', '곱소이까'),\n",
              "   ('죠', '곱죠'),\n",
              "   ('지마는', '곱지마는'),\n",
              "   ('지만', '곱지만'),\n",
              "   ('지요', '곱지요'),\n",
              "   ('게', '곱게'),\n",
              "   ('고는', '곱고는'),\n",
              "   ('누', '곱누'),\n",
              "   ('디', '곱디'),\n",
              "   ('소', '곱소'),\n",
              "   ('지', '곱지'),\n",
              "   ('아', '고와'),\n",
              "   ('아도', '고와도'),\n",
              "   ('아라', '고와라'),\n",
              "   ('아서', '고와서'),\n",
              "   ('아야', '고와야'),\n",
              "   ('아야만', '고와야만'),\n",
              "   ('아야지', '고와야지'),\n",
              "   ('아요', '고와요'),\n",
              "   ('아지이다', '고와지이다'),\n",
              "   ('았', '고왔'),\n",
              "   ('았었', '고왔었'),\n",
              "   ('았자', '고왔자'),\n",
              "   ('으나', '고우나'),\n",
              "   ('으나마', '고우나마'),\n",
              "   ('으니', '고우니'),\n",
              "   ('으니까', '고우니까'),\n",
              "   ('으니까는', '고우니까는'),\n",
              "   ('으니만치', '고우니만치'),\n",
              "   ('으니만큼', '고우니만큼'),\n",
              "   ('으려니와', '고우려니와'),\n",
              "   ('으려면', '고우려면'),\n",
              "   ('으련마는', '고우련마는'),\n",
              "   ('으렷다', '고우렷다'),\n",
              "   ('으리', '고우리'),\n",
              "   ('으리까', '고우리까'),\n",
              "   ('으리니', '고우리니'),\n",
              "   ('으리니라', '고우리니라'),\n",
              "   ('으리다', '고우리다'),\n",
              "   ('으리라', '고우리라'),\n",
              "   ('으리로다', '고우리로다'),\n",
              "   ('으리만치', '고우리만치'),\n",
              "   ('으리만큼', '고우리만큼'),\n",
              "   ('으리오', '고우리오'),\n",
              "   ('으매', '고우매'),\n",
              "   ('으며', '고우며'),\n",
              "   ('으면', '고우면'),\n",
              "   ('으면서', '고우면서'),\n",
              "   ('으므로', '고우므로'),\n",
              "   ('으사', '고우사'),\n",
              "   ('으세요', '고우세요'),\n",
              "   ('으셔요', '고우셔요'),\n",
              "   ('으소서', '고우소서'),\n",
              "   ('으시', '고우시'),\n",
              "   ('으시어요', '고우시어요'),\n",
              "   ('으오', '고우오'),\n",
              "   ('으오니까', '고우오니까'),\n",
              "   ('으오리까', '고우오리까'),\n",
              "   ('으오리다', '고우오리다'),\n",
              "   ('으오리이까', '고우오리이까'),\n",
              "   ('으오리이다', '고우오리이다'),\n",
              "   ('으오이다', '고우오이다'),\n",
              "   ('으옵', '고우옵'),\n",
              "   ('으옵나이까', '고우옵나이까'),\n",
              "   ('으옵나이다', '고우옵나이다'),\n",
              "   ('으옵니까', '고우옵니까'),\n",
              "   ('으옵니다', '고우옵니다'),\n",
              "   ('으옵디까', '고우옵디까'),\n",
              "   ('으옵디다', '고우옵디다'),\n",
              "   ('으옵소서', '고우옵소서'),\n",
              "   ('으옵시', '고우옵시'),\n",
              "   ('으와', '고우와'),\n",
              "   ('으우', '고우우'),\n",
              "   ('은', '고운'),\n",
              "   ('은걸', '고운걸'),\n",
              "   ('은들', '고운들'),\n",
              "   ('은즉', '고운즉'),\n",
              "   ('은즉슨', '고운즉슨'),\n",
              "   ('을', '고울'),\n",
              "   ('을걸', '고울걸'),\n",
              "   ('을까', '고울까'),\n",
              "   ('을는지', '고울는지'),\n",
              "   ('을라', '고울라'),\n",
              "   ('을라고', '고울라고'),\n",
              "   ('을러니', '고울러니'),\n",
              "   ('을러라', '고울러라'),\n",
              "   ('을런가', '고울런가'),\n",
              "   ('을런고', '고울런고'),\n",
              "   ('을레', '고울레'),\n",
              "   ('을레라', '고울레라'),\n",
              "   ('을망정', '고울망정'),\n",
              "   ('을밖에', '고울밖에'),\n",
              "   ('을뿐더러', '고울뿐더러'),\n",
              "   ('을새', '고울새'),\n",
              "   ('을세', '고울세'),\n",
              "   ('을세라', '고울세라'),\n",
              "   ('을세말이지', '고울세말이지'),\n",
              "   ('을수록', '고울수록'),\n",
              "   ('을시', '고울시'),\n",
              "   ('을쏘냐', '고울쏘냐'),\n",
              "   ('을쏜가', '고울쏜가'),\n",
              "   ('을지', '고울지'),\n",
              "   ('을지나', '고울지나'),\n",
              "   ('을지니', '고울지니'),\n",
              "   ('을지니라', '고울지니라'),\n",
              "   ('을지라', '고울지라'),\n",
              "   ('을지라도', '고울지라도'),\n",
              "   ('을지로다', '고울지로다'),\n",
              "   ('을지며', '고울지며'),\n",
              "   ('을지어다', '고울지어다'),\n",
              "   ('을지언정', '고울지언정'),\n",
              "   ('을진대', '고울진대'),\n",
              "   ('을진대는', '고울진대는'),\n",
              "   ('을진저', '고울진저'),\n",
              "   ('음', '고움'),\n",
              "   ('음에도', '고움에도'),\n",
              "   ('음에랴', '고움에랴'),\n",
              "   ('읍시오', '고웁시오'),\n",
              "   ('습네', '곱습네'),\n",
              "   ('습늰다', '곱습늰다'),\n",
              "   ('습니까', '곱습니까'),\n",
              "   ('습니다', '곱습니다'),\n",
              "   ('습디까', '곱습디까'),\n",
              "   ('습디다', '곱습디다'),\n",
              "   ('습딘다', '곱습딘다'),\n",
              "   ('습죠', '곱습죠'),\n",
              "   ('습지요', '곱습지요'),\n",
              "   ('구나', '곱구나'),\n",
              "   ('구려', '곱구려'),\n",
              "   ('군', '곱군'),\n",
              "   ('다고', '곱다고'),\n",
              "   ('다나', '곱다나'),\n",
              "   ('다네', '곱다네'),\n",
              "   ('다느니', '곱다느니'),\n",
              "   ('다니', '곱다니'),\n",
              "   ('다니까', '곱다니까'),\n",
              "   ('다더라', '곱다더라'),\n",
              "   ('다마는', '곱다마는'),\n",
              "   ('다며', '곱다며'),\n",
              "   ('다면', '곱다면'),\n",
              "   ('다면서', '곱다면서'),\n",
              "   ('다손', '곱다손'),\n",
              "   ('다지', '곱다지'),\n",
              "   ('단다', '곱단다'),\n",
              "   ('담', '곱담'),\n",
              "   ('답니까', '곱답니까'),\n",
              "   ('답니다', '곱답니다'),\n",
              "   ('답시고', '곱답시고'),\n",
              "   ('대', '곱대'),\n",
              "   ('대요', '곱대요'),\n",
              "   ('디', '곱디'),\n",
              "   ('우', '곱우'),\n",
              "   ('으냐', '고우냐'),\n",
              "   ('으냐고', '고우냐고'),\n",
              "   ('으뇨', '고우뇨'),\n",
              "   ('으니', '고우니'),\n",
              "   ('으니라', '고우니라'),\n",
              "   ('으이', '고우이'),\n",
              "   ('은가', '고운가'),\n",
              "   ('은감', '고운감'),\n",
              "   ('은고', '고운고'),\n",
              "   ('은데', '고운데'),\n",
              "   ('은뎁쇼', '고운뎁쇼'),\n",
              "   ('은지', '고운지'),\n",
              "   ('을데라니', '고울데라니'),\n",
              "   ('을시고', '고울시고')]]]"
            ]
          },
          "metadata": {},
          "execution_count": 26
        }
      ]
    },
    {
      "cell_type": "code",
      "source": [
        "ner = Pororo(task=\"review_scoring\", lang=\"ko\")\n",
        "ner(\"최악이에요! 여기 다시는 오고 싶지 않아요.\")"
      ],
      "metadata": {
        "colab": {
          "base_uri": "https://localhost:8080/"
        },
        "id": "uYI7t0MT2fHC",
        "outputId": "4c939aa8-ee19-4603-e6d5-b4483a588dad"
      },
      "execution_count": null,
      "outputs": [
        {
          "output_type": "execute_result",
          "data": {
            "text/plain": [
              "1.13"
            ]
          },
          "metadata": {},
          "execution_count": 27
        }
      ]
    },
    {
      "cell_type": "code",
      "source": [
        "ner = Pororo(task=\"review_scoring\", lang=\"ko\")\n",
        "ner(\"너무너무 즐거웠어요! 나중에 꼭 또 오고 싶네요.\")"
      ],
      "metadata": {
        "colab": {
          "base_uri": "https://localhost:8080/"
        },
        "id": "efqqQqIY2-pX",
        "outputId": "3e49c071-1a0b-4212-b7b9-9e1444facd8b"
      },
      "execution_count": null,
      "outputs": [
        {
          "output_type": "execute_result",
          "data": {
            "text/plain": [
              "4.96"
            ]
          },
          "metadata": {},
          "execution_count": 28
        }
      ]
    },
    {
      "cell_type": "code",
      "source": [
        ""
      ],
      "metadata": {
        "id": "N4fXrR2L3KlN"
      },
      "execution_count": null,
      "outputs": []
    }
  ]
}